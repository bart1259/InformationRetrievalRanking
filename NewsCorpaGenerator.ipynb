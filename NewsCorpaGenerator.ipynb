{
 "cells": [
  {
   "cell_type": "markdown",
   "id": "ae2e0567",
   "metadata": {},
   "source": [
    "# News Corpus Generator\n",
    "\n",
    "This notebook is used data loading for the news headline dataset, which ends up being the most challenging dataset we evaluate against because of the need to understand semantic similarity a little more robustly."
   ]
  },
  {
   "cell_type": "code",
   "execution_count": 1,
   "id": "a16e3078",
   "metadata": {},
   "outputs": [],
   "source": [
    "import pandas as pd"
   ]
  },
  {
   "cell_type": "code",
   "execution_count": 2,
   "id": "68d5fe33",
   "metadata": {},
   "outputs": [
    {
     "data": {
      "text/html": [
       "<div>\n",
       "<style scoped>\n",
       "    .dataframe tbody tr th:only-of-type {\n",
       "        vertical-align: middle;\n",
       "    }\n",
       "\n",
       "    .dataframe tbody tr th {\n",
       "        vertical-align: top;\n",
       "    }\n",
       "\n",
       "    .dataframe thead th {\n",
       "        text-align: right;\n",
       "    }\n",
       "</style>\n",
       "<table border=\"1\" class=\"dataframe\">\n",
       "  <thead>\n",
       "    <tr style=\"text-align: right;\">\n",
       "      <th></th>\n",
       "      <th>text</th>\n",
       "      <th>url</th>\n",
       "      <th>source</th>\n",
       "      <th>?</th>\n",
       "      <th>cluster_id</th>\n",
       "      <th>url_2</th>\n",
       "      <th>article_id</th>\n",
       "    </tr>\n",
       "  </thead>\n",
       "  <tbody>\n",
       "    <tr>\n",
       "      <th>1</th>\n",
       "      <td>Fed official says weak data caused by weather,...</td>\n",
       "      <td>http://www.latimes.com/business/money/la-fi-mo...</td>\n",
       "      <td>Los Angeles Times</td>\n",
       "      <td>b</td>\n",
       "      <td>ddUyU0VZz0BRneMioxUPQVP6sIxvM</td>\n",
       "      <td>www.latimes.com</td>\n",
       "      <td>1394470370698</td>\n",
       "    </tr>\n",
       "    <tr>\n",
       "      <th>2</th>\n",
       "      <td>Fed's Charles Plosser sees high bar for change...</td>\n",
       "      <td>http://www.livemint.com/Politics/H2EvwJSK2VE6O...</td>\n",
       "      <td>Livemint</td>\n",
       "      <td>b</td>\n",
       "      <td>ddUyU0VZz0BRneMioxUPQVP6sIxvM</td>\n",
       "      <td>www.livemint.com</td>\n",
       "      <td>1394470371207</td>\n",
       "    </tr>\n",
       "    <tr>\n",
       "      <th>3</th>\n",
       "      <td>US open: Stocks fall after Fed official hints ...</td>\n",
       "      <td>http://www.ifamagazine.com/news/us-open-stocks...</td>\n",
       "      <td>IFA Magazine</td>\n",
       "      <td>b</td>\n",
       "      <td>ddUyU0VZz0BRneMioxUPQVP6sIxvM</td>\n",
       "      <td>www.ifamagazine.com</td>\n",
       "      <td>1394470371550</td>\n",
       "    </tr>\n",
       "    <tr>\n",
       "      <th>4</th>\n",
       "      <td>Fed risks falling 'behind the curve', Charles ...</td>\n",
       "      <td>http://www.ifamagazine.com/news/fed-risks-fall...</td>\n",
       "      <td>IFA Magazine</td>\n",
       "      <td>b</td>\n",
       "      <td>ddUyU0VZz0BRneMioxUPQVP6sIxvM</td>\n",
       "      <td>www.ifamagazine.com</td>\n",
       "      <td>1394470371793</td>\n",
       "    </tr>\n",
       "    <tr>\n",
       "      <th>5</th>\n",
       "      <td>Fed's Plosser: Nasty Weather Has Curbed Job Gr...</td>\n",
       "      <td>http://www.moneynews.com/Economy/federal-reser...</td>\n",
       "      <td>Moneynews</td>\n",
       "      <td>b</td>\n",
       "      <td>ddUyU0VZz0BRneMioxUPQVP6sIxvM</td>\n",
       "      <td>www.moneynews.com</td>\n",
       "      <td>1394470372027</td>\n",
       "    </tr>\n",
       "  </tbody>\n",
       "</table>\n",
       "</div>"
      ],
      "text/plain": [
       "                                                text  \\\n",
       "1  Fed official says weak data caused by weather,...   \n",
       "2  Fed's Charles Plosser sees high bar for change...   \n",
       "3  US open: Stocks fall after Fed official hints ...   \n",
       "4  Fed risks falling 'behind the curve', Charles ...   \n",
       "5  Fed's Plosser: Nasty Weather Has Curbed Job Gr...   \n",
       "\n",
       "                                                 url             source  ?  \\\n",
       "1  http://www.latimes.com/business/money/la-fi-mo...  Los Angeles Times  b   \n",
       "2  http://www.livemint.com/Politics/H2EvwJSK2VE6O...           Livemint  b   \n",
       "3  http://www.ifamagazine.com/news/us-open-stocks...       IFA Magazine  b   \n",
       "4  http://www.ifamagazine.com/news/fed-risks-fall...       IFA Magazine  b   \n",
       "5  http://www.moneynews.com/Economy/federal-reser...          Moneynews  b   \n",
       "\n",
       "                      cluster_id                url_2     article_id  \n",
       "1  ddUyU0VZz0BRneMioxUPQVP6sIxvM      www.latimes.com  1394470370698  \n",
       "2  ddUyU0VZz0BRneMioxUPQVP6sIxvM     www.livemint.com  1394470371207  \n",
       "3  ddUyU0VZz0BRneMioxUPQVP6sIxvM  www.ifamagazine.com  1394470371550  \n",
       "4  ddUyU0VZz0BRneMioxUPQVP6sIxvM  www.ifamagazine.com  1394470371793  \n",
       "5  ddUyU0VZz0BRneMioxUPQVP6sIxvM    www.moneynews.com  1394470372027  "
      ]
     },
     "execution_count": 2,
     "metadata": {},
     "output_type": "execute_result"
    }
   ],
   "source": [
    "news_df = pd.read_csv(\"./data/news-aggregator/newsCorpora.csv\", sep=\"\\t\", names=[\"text\", \"url\", \"source\", \"?\", \"cluster_id\", \"url_2\", \"article_id\"])\n",
    "news_df.head()"
   ]
  },
  {
   "cell_type": "code",
   "execution_count": 3,
   "id": "e9565c4a",
   "metadata": {},
   "outputs": [],
   "source": [
    "from sklearn.feature_extraction.text import CountVectorizer\n",
    "from sklearn.metrics.pairwise import cosine_similarity\n",
    "import numpy as np\n",
    "from tqdm import tqdm\n",
    "\n",
    "catalog_id = 0\n",
    "\n",
    "catalog_ids = []\n",
    "catlaog_texts = []\n",
    "\n",
    "queries_input_texts = []\n",
    "queries_match_ids = []\n",
    "queries_judgments = []\n",
    "\n",
    "def process_data_df(data_df):\n",
    "    global catalog_id\n",
    "    for i, g in tqdm(data_df.groupby(\"cluster_id\")):\n",
    "        if len(g.index) < 3:\n",
    "            continue\n",
    "        original_text = g[\"text\"].values[-1]\n",
    "        candidate_texts = g[\"text\"].iloc[1:].values\n",
    "\n",
    "        vectorizer = CountVectorizer().fit_transform([original_text] + list(candidate_texts))\n",
    "        vectors = vectorizer.toarray()\n",
    "\n",
    "        csim = cosine_similarity(vectors)\n",
    "        similarity_scores = csim[0,1:]\n",
    "        similarity_scores[similarity_scores <= 0.2] += 1\n",
    "\n",
    "        least_similar_index = np.argmin(similarity_scores)\n",
    "        positive_text = candidate_texts[least_similar_index]\n",
    "        negative_text = (news_df[news_df[\"cluster_id\"] != i].sample(n=1)[\"text\"].values[0])\n",
    "\n",
    "        catalog_ids.append(catalog_id)\n",
    "        catlaog_texts.append(positive_text)\n",
    "        catalog_id += 1\n",
    "\n",
    "        catalog_ids.append(catalog_id)\n",
    "        catlaog_texts.append(negative_text)\n",
    "        catalog_id += 1\n",
    "\n",
    "        queries_input_texts.append(original_text)\n",
    "        queries_match_ids.append(catalog_id-2)\n",
    "        queries_judgments.append(True)\n",
    "\n",
    "        queries_input_texts.append(original_text)\n",
    "        queries_match_ids.append(catalog_id-1)\n",
    "        queries_judgments.append(False)\n",
    "\n",
    "    queries_df = pd.DataFrame({\n",
    "        \"input_text\": queries_input_texts,\n",
    "        \"match_id\": queries_match_ids,\n",
    "        \"judgment\": queries_judgments\n",
    "    })\n",
    "\n",
    "    catalog_df = pd.DataFrame({\n",
    "        \"catalog_id\": catalog_ids,\n",
    "        \"text\": catlaog_texts,\n",
    "    })\n",
    "    \n",
    "    return catalog_df, queries_df"
   ]
  },
  {
   "cell_type": "code",
   "execution_count": 4,
   "id": "4482fd27",
   "metadata": {},
   "outputs": [],
   "source": [
    "groups = news_df['cluster_id'].unique()\n",
    "\n",
    "np.random.shuffle(groups)\n",
    "\n",
    "train_idx = int(len(groups) * 0.6)\n",
    "valid_idx = int(len(groups) * 0.8)\n",
    "\n",
    "train_groups = groups[:train_idx]\n",
    "valid_groups = groups[train_idx:valid_idx]\n",
    "test_groups = groups[valid_idx:]\n",
    "\n",
    "train_df = news_df[news_df['cluster_id'].isin(train_groups)]\n",
    "validation_df = news_df[news_df['cluster_id'].isin(valid_groups)]\n",
    "test_df = news_df[news_df['cluster_id'].isin(test_groups)]"
   ]
  },
  {
   "cell_type": "code",
   "execution_count": 5,
   "id": "e2202222",
   "metadata": {},
   "outputs": [
    {
     "name": "stderr",
     "output_type": "stream",
     "text": [
      "100%|██████████| 4338/4338 [04:45<00:00, 15.20it/s]\n",
      "100%|██████████| 1446/1446 [01:34<00:00, 15.34it/s]\n",
      "100%|██████████| 1446/1446 [01:34<00:00, 15.31it/s]\n"
     ]
    }
   ],
   "source": [
    "train_catalog_df, train_queries_df = process_data_df(train_df)\n",
    "val_catalog_df, val_queries_df = process_data_df(validation_df)\n",
    "test_catalog_df, test_queries_df = process_data_df(test_df)"
   ]
  },
  {
   "cell_type": "code",
   "execution_count": 6,
   "id": "4c7e61c1",
   "metadata": {},
   "outputs": [],
   "source": [
    "train_catalog_df[\"text\"] = train_catalog_df[\"text\"].str.replace(\" ...\", \"\", regex=False).str.strip()\n",
    "val_catalog_df[\"text\"] = val_catalog_df[\"text\"].str.replace(\" ...\", \"\", regex=False).str.strip()\n",
    "test_catalog_df[\"text\"] = test_catalog_df[\"text\"].str.replace(\" ...\", \"\", regex=False).str.strip()\n",
    "\n",
    "train_queries_df[\"input_text\"] = train_queries_df[\"input_text\"].str.replace(\" ...\", \"\", regex=False).str.strip()\n",
    "val_queries_df[\"input_text\"] = val_queries_df[\"input_text\"].str.replace(\" ...\", \"\", regex=False).str.strip()\n",
    "test_queries_df[\"input_text\"] = test_queries_df[\"input_text\"].str.replace(\" ...\", \"\", regex=False).str.strip()"
   ]
  },
  {
   "cell_type": "code",
   "execution_count": 7,
   "id": "4dd81b9b",
   "metadata": {},
   "outputs": [],
   "source": [
    "train_catalog_df.to_csv(\"data/news-aggregator/train_catalog.csv\", index=False)\n",
    "train_queries_df.to_csv(\"data/news-aggregator/train_queries.csv\", index=False)\n",
    "val_catalog_df.to_csv(\"data/news-aggregator/val_catalog.csv\", index=False)\n",
    "val_queries_df.to_csv(\"data/news-aggregator/val_queries.csv\", index=False)\n",
    "test_catalog_df.to_csv(\"data/news-aggregator/test_catalog.csv\", index=False)\n",
    "test_queries_df.to_csv(\"data/news-aggregator/test_queries.csv\", index=False)"
   ]
  },
  {
   "cell_type": "code",
   "execution_count": 8,
   "id": "54548673",
   "metadata": {},
   "outputs": [
    {
     "data": {
      "text/plain": [
       "array([\"The Key to the Dow's Bull Market? Energy Stocks\",\n",
       "       'Dollar tumbles against yen',\n",
       "       'Google Drive price cuts signal start of Cloud Storage Wars - What will Dropbox',\n",
       "       'Gov. Cuomo Unveils Plan To Combat HIV, AIDS',\n",
       "       'China Credit Gauge Declines as Officials Seek to Tame Debt Boom'],\n",
       "      dtype=object)"
      ]
     },
     "execution_count": 8,
     "metadata": {},
     "output_type": "execute_result"
    }
   ],
   "source": [
    "train_catalog_df.head()[\"text\"].values"
   ]
  },
  {
   "cell_type": "code",
   "execution_count": 9,
   "id": "c428d622",
   "metadata": {},
   "outputs": [
    {
     "data": {
      "text/plain": [
       "array(['Linn Energy (LINE) to Acquire US non-Core Oil, Gas Assets of Devon Energy',\n",
       "       'Linn Energy (LINE) to Acquire US non-Core Oil, Gas Assets of Devon Energy',\n",
       "       'Western Digital My Cloud EX2 Review: Cloud Storage Simplicity',\n",
       "       'Western Digital My Cloud EX2 Review: Cloud Storage Simplicity',\n",
       "       'China central bank to get tough on shadow financing'],\n",
       "      dtype=object)"
      ]
     },
     "execution_count": 9,
     "metadata": {},
     "output_type": "execute_result"
    }
   ],
   "source": [
    "train_queries_df.head()[\"input_text\"].values"
   ]
  },
  {
   "cell_type": "code",
   "execution_count": null,
   "id": "ac4e45a7",
   "metadata": {},
   "outputs": [],
   "source": []
  }
 ],
 "metadata": {
  "kernelspec": {
   "display_name": "Python 3 (ipykernel)",
   "language": "python",
   "name": "python3"
  },
  "language_info": {
   "codemirror_mode": {
    "name": "ipython",
    "version": 3
   },
   "file_extension": ".py",
   "mimetype": "text/x-python",
   "name": "python",
   "nbconvert_exporter": "python",
   "pygments_lexer": "ipython3",
   "version": "3.10.6"
  }
 },
 "nbformat": 4,
 "nbformat_minor": 5
}
