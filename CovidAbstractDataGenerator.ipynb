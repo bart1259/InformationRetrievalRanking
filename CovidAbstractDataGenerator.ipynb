{
 "cells": [
  {
   "cell_type": "markdown",
   "id": "d15843a9",
   "metadata": {},
   "source": [
    "# COVID Abstract Data Generator\n",
    "\n",
    "This is the data generator script for the COVID 19 paper dataset where we look to map titles to abstracts of papers. This task shares a lot of similarity to document retrieval, as seen in RAG systems today. This dataset still has a lot of token overlap, making it somewhat easier to get good accuracy for, but it is more challenging than the Walmart-Amazon dataset."
   ]
  },
  {
   "cell_type": "code",
   "execution_count": null,
   "id": "9d45b583",
   "metadata": {},
   "outputs": [],
   "source": [
    "# Download covid_abstracts.csv from https://www.kaggle.com/datasets/anandhuh/covid-abstracts"
   ]
  },
  {
   "cell_type": "code",
   "execution_count": 1,
   "id": "ea3e3c35",
   "metadata": {
    "ExecuteTime": {
     "end_time": "2024-04-25T21:29:40.989142Z",
     "start_time": "2024-04-25T21:29:40.561945800Z"
    }
   },
   "outputs": [],
   "source": [
    "import pandas as pd"
   ]
  },
  {
   "cell_type": "code",
   "execution_count": 2,
   "id": "38602939",
   "metadata": {
    "ExecuteTime": {
     "end_time": "2024-04-25T21:29:42.287731900Z",
     "start_time": "2024-04-25T21:29:41.540831300Z"
    }
   },
   "outputs": [],
   "source": [
    "data_df = pd.read_csv(\"./data/covid-abstracts/covid_abstracts.csv\")\n",
    "data_df = data_df.reset_index().rename({\"index\": \"id\"}, axis=1)"
   ]
  },
  {
   "cell_type": "code",
   "execution_count": 3,
   "id": "45383427",
   "metadata": {},
   "outputs": [],
   "source": [
    "def get_catalog_and_queries_df(title_abstract_df):\n",
    "\n",
    "    target_ids = np.unique(walmart_df[\"subject_id\"].values)\n",
    "    catalog_df = meta_data_df[walmart_df[\"subject_id\"].isin(target_ids)]\n",
    "    catalog_df = catalog_df.rename({\"subject_id\": \"catalog_id\"})\n",
    "    \n",
    "    train_df = {\n",
    "        \"input_text\": [],\n",
    "        \"match_id\": [],\n",
    "        \"judgment\": [],\n",
    "    }\n",
    "\n",
    "    for j, row in tqdm(data_df.iterrows(), total=len(data_df.index)):\n",
    "        source_id = row[\"source_id\"]\n",
    "        target_id = row[\"target_id\"]\n",
    "\n",
    "        train_df[\"input_text\"].append(amazon_df[amazon_df[\"subject_id\"] == target_id].iloc[0][\"title\"])\n",
    "        train_df[\"match_id\"].append(source_id)\n",
    "        train_df[\"judgment\"].append(row[\"matching\"])\n",
    "\n",
    "    queries_df = pd.DataFrame(train_df)\n",
    "    \n",
    "    return catalog_df, queries_df"
   ]
  },
  {
   "cell_type": "code",
   "execution_count": 4,
   "id": "1194d539",
   "metadata": {},
   "outputs": [],
   "source": [
    "from tqdm import tqdm\n",
    "\n",
    "def get_catalog_and_queries_df(data_df):\n",
    "    data = {\n",
    "        \"input_text\": [],\n",
    "        \"match_id\": [],\n",
    "        \"judgment\": []\n",
    "    }\n",
    "\n",
    "    for j, row in tqdm(data_df.iterrows(), total=len(data_df.index)):\n",
    "        data[\"input_text\"].append(row[\"title\"])\n",
    "        data[\"match_id\"].append(row[\"id\"])\n",
    "        data[\"judgment\"].append(True)\n",
    "\n",
    "        # Add negative Sample\n",
    "        data[\"input_text\"].append(row[\"title\"])\n",
    "        data[\"match_id\"].append((row[\"id\"]+1) % len(data_df.index))\n",
    "        data[\"judgment\"].append(False)\n",
    "\n",
    "    queries_df = pd.DataFrame(data)\n",
    "\n",
    "    catalog_df = data_df.copy()\n",
    "    catalog_df = catalog_df.rename({\"id\": \"catalog_id\", \"abstract\": \"text\"}, axis=1)\n",
    "    del catalog_df[\"title\"] \n",
    "\n",
    "    return catalog_df,queries_df"
   ]
  },
  {
   "cell_type": "code",
   "execution_count": 5,
   "id": "714fe106",
   "metadata": {},
   "outputs": [
    {
     "name": "stdout",
     "output_type": "stream",
     "text": [
      "Train data size: 6000\n",
      "Validation data size: 2000\n",
      "Test data size: 2000\n"
     ]
    }
   ],
   "source": [
    "# 60 20 20 split in pandas\n",
    "from sklearn.model_selection import train_test_split\n",
    "\n",
    "# Split data_df into train (60%), validation (20%), and test (20%)\n",
    "train_df, temp_df = train_test_split(data_df, test_size=0.4, random_state=42)\n",
    "validation_df, test_df = train_test_split(temp_df, test_size=0.5, random_state=42)\n",
    "\n",
    "# Print the sizes of the train, validation, and test dataframes\n",
    "print(\"Train data size:\", len(train_df))\n",
    "print(\"Validation data size:\", len(validation_df))\n",
    "print(\"Test data size:\", len(test_df))"
   ]
  },
  {
   "cell_type": "code",
   "execution_count": 6,
   "id": "03745f49",
   "metadata": {},
   "outputs": [
    {
     "name": "stderr",
     "output_type": "stream",
     "text": [
      "100%|██████████| 6000/6000 [00:00<00:00, 27630.86it/s]\n",
      "100%|██████████| 2000/2000 [00:00<00:00, 28013.01it/s]\n",
      "100%|██████████| 2000/2000 [00:00<00:00, 28051.70it/s]\n"
     ]
    }
   ],
   "source": [
    "train_catalog_df, train_queries_df = get_catalog_and_queries_df(train_df)\n",
    "val_catalog_df, val_queries_df = get_catalog_and_queries_df(validation_df)\n",
    "test_catalog_df, test_queries_df = get_catalog_and_queries_df(test_df)"
   ]
  },
  {
   "cell_type": "code",
   "execution_count": 7,
   "id": "3124b7c6",
   "metadata": {},
   "outputs": [],
   "source": [
    "train_catalog_df.to_csv(\"data/covid-abstracts/train_catalog.csv\", index=False)\n",
    "train_queries_df.to_csv(\"data/covid-abstracts/train_queries.csv\", index=False)\n",
    "val_catalog_df.to_csv(\"data/covid-abstracts/val_catalog.csv\", index=False)\n",
    "val_queries_df.to_csv(\"data/covid-abstracts/val_queries.csv\", index=False)\n",
    "test_catalog_df.to_csv(\"data/covid-abstracts/test_catalog.csv\", index=False)\n",
    "test_queries_df.to_csv(\"data/covid-abstracts/test_queries.csv\", index=False)"
   ]
  },
  {
   "cell_type": "code",
   "execution_count": null,
   "id": "9578317e",
   "metadata": {},
   "outputs": [],
   "source": []
  }
 ],
 "metadata": {
  "kernelspec": {
   "display_name": "Python 3 (ipykernel)",
   "language": "python",
   "name": "python3"
  },
  "language_info": {
   "codemirror_mode": {
    "name": "ipython",
    "version": 3
   },
   "file_extension": ".py",
   "mimetype": "text/x-python",
   "name": "python",
   "nbconvert_exporter": "python",
   "pygments_lexer": "ipython3",
   "version": "3.10.6"
  }
 },
 "nbformat": 4,
 "nbformat_minor": 5
}
