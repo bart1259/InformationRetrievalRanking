{
 "cells": [
  {
   "cell_type": "markdown",
   "id": "04b0ac17",
   "metadata": {},
   "source": [
    "# Gen Data"
   ]
  },
  {
   "cell_type": "code",
   "execution_count": 2,
   "id": "e456d942",
   "metadata": {
    "ExecuteTime": {
     "end_time": "2024-04-25T21:30:25.886674900Z",
     "start_time": "2024-04-25T21:30:25.859675200Z"
    }
   },
   "outputs": [],
   "source": [
    "import pandas as pd\n",
    "from tqdm import tqdm"
   ]
  },
  {
   "cell_type": "code",
   "execution_count": 3,
   "id": "04279cd4",
   "metadata": {
    "ExecuteTime": {
     "end_time": "2024-04-25T21:30:26.491490900Z",
     "start_time": "2024-04-25T21:30:26.431458500Z"
    }
   },
   "outputs": [
    {
     "data": {
      "text/plain": "   source_id  target_id  matching\n0        624       2862     False\n1       1510      16351     False\n2        102       9859     False\n3        839      13024     False\n4        971       5512     False",
      "text/html": "<div>\n<style scoped>\n    .dataframe tbody tr th:only-of-type {\n        vertical-align: middle;\n    }\n\n    .dataframe tbody tr th {\n        vertical-align: top;\n    }\n\n    .dataframe thead th {\n        text-align: right;\n    }\n</style>\n<table border=\"1\" class=\"dataframe\">\n  <thead>\n    <tr style=\"text-align: right;\">\n      <th></th>\n      <th>source_id</th>\n      <th>target_id</th>\n      <th>matching</th>\n    </tr>\n  </thead>\n  <tbody>\n    <tr>\n      <th>0</th>\n      <td>624</td>\n      <td>2862</td>\n      <td>False</td>\n    </tr>\n    <tr>\n      <th>1</th>\n      <td>1510</td>\n      <td>16351</td>\n      <td>False</td>\n    </tr>\n    <tr>\n      <th>2</th>\n      <td>102</td>\n      <td>9859</td>\n      <td>False</td>\n    </tr>\n    <tr>\n      <th>3</th>\n      <td>839</td>\n      <td>13024</td>\n      <td>False</td>\n    </tr>\n    <tr>\n      <th>4</th>\n      <td>971</td>\n      <td>5512</td>\n      <td>False</td>\n    </tr>\n  </tbody>\n</table>\n</div>"
     },
     "execution_count": 3,
     "metadata": {},
     "output_type": "execute_result"
    }
   ],
   "source": [
    "train_df = pd.read_csv(\"data/walmart-amazon/gs_train.csv\")\n",
    "train_df.head()"
   ]
  },
  {
   "cell_type": "code",
   "execution_count": 4,
   "id": "38788913",
   "metadata": {
    "ExecuteTime": {
     "end_time": "2024-04-25T21:30:27.669997100Z",
     "start_time": "2024-04-25T21:30:26.899596200Z"
    }
   },
   "outputs": [
    {
     "data": {
      "text/plain": "   subject_id        id          upc          brand              groupname  \\\n0           1  14249992  64109216245         Draper  Electronics - General   \n1           2  10928662   1034383417          Epson               Monitors   \n2           3  11961447  80844700031  Comprehensive         TV Accessories   \n3           4  13044637  79006932160         D-Link       Garden - General   \n4           5  13214131   6503081691       StarTech  Electronics - General   \n\n                                               title   price  \\\n0                 Draper Infrared Remote Transmitter   58.45   \n1   Epson 1500 Hours 200W UHE Projector Lamp ELPLP12  438.84   \n2  Comprehensive Two-Piece 75 Precision BNC Jack ...   59.25   \n3                     D-Link DCS-1100 Network Camera   99.82   \n4      StarTech.com RKPW247015 24 Outlet Power Strip   59.00   \n\n                                          shelfdescr  \\\n0  Infrared transmitter. 3-button operation for i...   \n1                                                NaN   \n2  Comprehensive s True 75 connectors eliminate i...   \n3  Surveillance Network Camera  Built-in Omni-dir...   \n4  Fits most 42U racks and equipment cabinets  10...   \n\n                                          shortdescr  \\\n0                                                NaN   \n1                    Epson ELPLP12  Replacement Lamp   \n2                                                NaN   \n3  The D-Link DCS-1100 Network Camera comes with ...   \n4  The StarTech.com RKPW247015 24 Outlet Power St...   \n\n                                           longdescr  \\\n0  DR1143Infrared transmitter. 3-button operation...   \n1  EPSON ELPLP12 1500HRS 200V REPL LAMP FOR LAMP ...   \n2  CH1151Comprehensive s True 75 connectors elimi...   \n3  Surveillance Network Camera  Built-in Omni-dir...   \n4  24 Outlet Power Strip solution for your rackmo...   \n\n                                            imageurl  \\\n0  http://i.walmartimages.com/i/mp/00/64/10/92/16...   \n1  http://i.walmartimages.com/i/p/00/01/03/43/83/...   \n2  http://i.walmartimages.com/i/mp/00/80/84/47/00...   \n3  http://i.walmartimages.com/i/p/00/79/00/69/32/...   \n4  http://i.walmartimages.com/i/p/00/06/50/30/81/...   \n\n                                     orig_shelfdescr  \\\n0  Infrared transmitter. 3-button operation for i...   \n1                                                NaN   \n2  Comprehensive's True 75 connectors eliminate i...   \n3  <UL><LI>Surveillance/Network Camera</LI><LI>Bu...   \n4  <ul><li>Fits most 42U racks and equipment cabi...   \n\n                                     orig_shortdescr  \\\n0                                                NaN   \n1                    Epson ELPLP12  Replacement Lamp   \n2                                                NaN   \n3  The D-Link DCS-1100 Network Camera comes with ...   \n4  The StarTech.com RKPW247015 24 Outlet Power St...   \n\n                                      orig_longdescr     modelno  shipweight  \\\n0  DR1143Infrared transmitter. 3-button operation...      121066        2.00   \n1  EPSON ELPLP12 1500HRS 200V REPL LAMP FOR LAMP ...     ELPLP12        0.95   \n2  CH1151Comprehensive's True 75 connectors elimi...   BJ-2C7559        0.05   \n3  <UL><LI>Surveillance/Network Camera</LI><LI>Bu...    DCS-1100         NaN   \n4  <ul><li>24 Outlet Power Strip solution for you...  RKPW247015        5.25   \n\n                 dimensions  \n0                       NaN  \n1  6.75 x 5.75 x 5.5 inches  \n2                       NaN  \n3                       NaN  \n4   72.5 x 2.5 x 1.5 inches  ",
      "text/html": "<div>\n<style scoped>\n    .dataframe tbody tr th:only-of-type {\n        vertical-align: middle;\n    }\n\n    .dataframe tbody tr th {\n        vertical-align: top;\n    }\n\n    .dataframe thead th {\n        text-align: right;\n    }\n</style>\n<table border=\"1\" class=\"dataframe\">\n  <thead>\n    <tr style=\"text-align: right;\">\n      <th></th>\n      <th>subject_id</th>\n      <th>id</th>\n      <th>upc</th>\n      <th>brand</th>\n      <th>groupname</th>\n      <th>title</th>\n      <th>price</th>\n      <th>shelfdescr</th>\n      <th>shortdescr</th>\n      <th>longdescr</th>\n      <th>imageurl</th>\n      <th>orig_shelfdescr</th>\n      <th>orig_shortdescr</th>\n      <th>orig_longdescr</th>\n      <th>modelno</th>\n      <th>shipweight</th>\n      <th>dimensions</th>\n    </tr>\n  </thead>\n  <tbody>\n    <tr>\n      <th>0</th>\n      <td>1</td>\n      <td>14249992</td>\n      <td>64109216245</td>\n      <td>Draper</td>\n      <td>Electronics - General</td>\n      <td>Draper Infrared Remote Transmitter</td>\n      <td>58.45</td>\n      <td>Infrared transmitter. 3-button operation for i...</td>\n      <td>NaN</td>\n      <td>DR1143Infrared transmitter. 3-button operation...</td>\n      <td>http://i.walmartimages.com/i/mp/00/64/10/92/16...</td>\n      <td>Infrared transmitter. 3-button operation for i...</td>\n      <td>NaN</td>\n      <td>DR1143Infrared transmitter. 3-button operation...</td>\n      <td>121066</td>\n      <td>2.00</td>\n      <td>NaN</td>\n    </tr>\n    <tr>\n      <th>1</th>\n      <td>2</td>\n      <td>10928662</td>\n      <td>1034383417</td>\n      <td>Epson</td>\n      <td>Monitors</td>\n      <td>Epson 1500 Hours 200W UHE Projector Lamp ELPLP12</td>\n      <td>438.84</td>\n      <td>NaN</td>\n      <td>Epson ELPLP12  Replacement Lamp</td>\n      <td>EPSON ELPLP12 1500HRS 200V REPL LAMP FOR LAMP ...</td>\n      <td>http://i.walmartimages.com/i/p/00/01/03/43/83/...</td>\n      <td>NaN</td>\n      <td>Epson ELPLP12  Replacement Lamp</td>\n      <td>EPSON ELPLP12 1500HRS 200V REPL LAMP FOR LAMP ...</td>\n      <td>ELPLP12</td>\n      <td>0.95</td>\n      <td>6.75 x 5.75 x 5.5 inches</td>\n    </tr>\n    <tr>\n      <th>2</th>\n      <td>3</td>\n      <td>11961447</td>\n      <td>80844700031</td>\n      <td>Comprehensive</td>\n      <td>TV Accessories</td>\n      <td>Comprehensive Two-Piece 75 Precision BNC Jack ...</td>\n      <td>59.25</td>\n      <td>Comprehensive s True 75 connectors eliminate i...</td>\n      <td>NaN</td>\n      <td>CH1151Comprehensive s True 75 connectors elimi...</td>\n      <td>http://i.walmartimages.com/i/mp/00/80/84/47/00...</td>\n      <td>Comprehensive's True 75 connectors eliminate i...</td>\n      <td>NaN</td>\n      <td>CH1151Comprehensive's True 75 connectors elimi...</td>\n      <td>BJ-2C7559</td>\n      <td>0.05</td>\n      <td>NaN</td>\n    </tr>\n    <tr>\n      <th>3</th>\n      <td>4</td>\n      <td>13044637</td>\n      <td>79006932160</td>\n      <td>D-Link</td>\n      <td>Garden - General</td>\n      <td>D-Link DCS-1100 Network Camera</td>\n      <td>99.82</td>\n      <td>Surveillance Network Camera  Built-in Omni-dir...</td>\n      <td>The D-Link DCS-1100 Network Camera comes with ...</td>\n      <td>Surveillance Network Camera  Built-in Omni-dir...</td>\n      <td>http://i.walmartimages.com/i/p/00/79/00/69/32/...</td>\n      <td>&lt;UL&gt;&lt;LI&gt;Surveillance/Network Camera&lt;/LI&gt;&lt;LI&gt;Bu...</td>\n      <td>The D-Link DCS-1100 Network Camera comes with ...</td>\n      <td>&lt;UL&gt;&lt;LI&gt;Surveillance/Network Camera&lt;/LI&gt;&lt;LI&gt;Bu...</td>\n      <td>DCS-1100</td>\n      <td>NaN</td>\n      <td>NaN</td>\n    </tr>\n    <tr>\n      <th>4</th>\n      <td>5</td>\n      <td>13214131</td>\n      <td>6503081691</td>\n      <td>StarTech</td>\n      <td>Electronics - General</td>\n      <td>StarTech.com RKPW247015 24 Outlet Power Strip</td>\n      <td>59.00</td>\n      <td>Fits most 42U racks and equipment cabinets  10...</td>\n      <td>The StarTech.com RKPW247015 24 Outlet Power St...</td>\n      <td>24 Outlet Power Strip solution for your rackmo...</td>\n      <td>http://i.walmartimages.com/i/p/00/06/50/30/81/...</td>\n      <td>&lt;ul&gt;&lt;li&gt;Fits most 42U racks and equipment cabi...</td>\n      <td>The StarTech.com RKPW247015 24 Outlet Power St...</td>\n      <td>&lt;ul&gt;&lt;li&gt;24 Outlet Power Strip solution for you...</td>\n      <td>RKPW247015</td>\n      <td>5.25</td>\n      <td>72.5 x 2.5 x 1.5 inches</td>\n    </tr>\n  </tbody>\n</table>\n</div>"
     },
     "execution_count": 4,
     "metadata": {},
     "output_type": "execute_result"
    }
   ],
   "source": [
    "walmart_df = pd.read_csv(\"data/walmart-amazon/record_descriptions/1_walmart.csv\")\n",
    "amazon_df = pd.read_csv(\"data/walmart-amazon/record_descriptions/2_amazon.csv\")\n",
    "walmart_df.head()"
   ]
  },
  {
   "cell_type": "code",
   "execution_count": 5,
   "id": "25acbe4a",
   "metadata": {
    "ExecuteTime": {
     "end_time": "2024-04-25T21:30:27.967603600Z",
     "start_time": "2024-04-25T21:30:27.864041Z"
    }
   },
   "outputs": [],
   "source": [
    "import numpy as np\n",
    "\n",
    "def get_catalog_and_queries_df(judgments_df, amazon_df, walmart_df):\n",
    "\n",
    "    target_ids = np.unique(walmart_df[\"subject_id\"].values)\n",
    "    catalog_df = walmart_df[walmart_df[\"subject_id\"].isin(target_ids)]\n",
    "    catalog_df = catalog_df.rename({\"subject_id\": \"catalog_id\"}, axis=1)\n",
    "    catalog_df = catalog_df.rename({\"title\": \"text\"}, axis=1)\n",
    "    \n",
    "    train_df = {\n",
    "        \"input_text\": [],\n",
    "        \"match_id\": [],\n",
    "        \"judgment\": [],\n",
    "    }\n",
    "\n",
    "    for j, row in tqdm(judgments_df.iterrows(), total=len(judgments_df.index)):\n",
    "        source_id = row[\"source_id\"]\n",
    "        target_id = row[\"target_id\"]\n",
    "\n",
    "        train_df[\"input_text\"].append(amazon_df[amazon_df[\"subject_id\"] == target_id].iloc[0][\"title\"])\n",
    "        train_df[\"match_id\"].append(source_id)\n",
    "        train_df[\"judgment\"].append(row[\"matching\"])\n",
    "\n",
    "    queries_df = pd.DataFrame(train_df)\n",
    "    \n",
    "    return catalog_df, queries_df"
   ]
  },
  {
   "cell_type": "code",
   "execution_count": 6,
   "id": "eaa8cbe2",
   "metadata": {
    "ExecuteTime": {
     "end_time": "2024-04-25T21:30:33.777479100Z",
     "start_time": "2024-04-25T21:30:29.307935200Z"
    }
   },
   "outputs": [
    {
     "name": "stderr",
     "output_type": "stream",
     "text": [
      "100%|██████████| 10905/10905 [00:03<00:00, 3444.40it/s]\n",
      "100%|██████████| 3131/3131 [00:00<00:00, 3800.73it/s]\n",
      "100%|██████████| 1543/1543 [00:00<00:00, 3607.37it/s]\n"
     ]
    }
   ],
   "source": [
    "train_catalog_df, train_queries_df = get_catalog_and_queries_df(pd.read_csv(\"data/walmart-amazon/gs_train.csv\"), amazon_df, walmart_df)\n",
    "val_catalog_df, val_queries_df = get_catalog_and_queries_df(pd.read_csv(\"data/walmart-amazon/gs_val.csv\"), amazon_df, walmart_df)\n",
    "test_catalog_df, test_queries_df = get_catalog_and_queries_df(pd.read_csv(\"data/walmart-amazon/gs_test.csv\"), amazon_df, walmart_df)"
   ]
  },
  {
   "cell_type": "code",
   "execution_count": 7,
   "id": "2717241a",
   "metadata": {
    "ExecuteTime": {
     "end_time": "2024-04-25T21:30:35.986708200Z",
     "start_time": "2024-04-25T21:30:35.691062800Z"
    }
   },
   "outputs": [],
   "source": [
    "train_catalog_df.to_csv(\"data/walmart-amazon/train_catalog.csv\", index=False)\n",
    "train_queries_df.to_csv(\"data/walmart-amazon/train_queries.csv\", index=False)\n",
    "val_catalog_df.to_csv(\"data/walmart-amazon/val_catalog.csv\", index=False)\n",
    "val_queries_df.to_csv(\"data/walmart-amazon/val_queries.csv\", index=False)\n",
    "test_catalog_df.to_csv(\"data/walmart-amazon/test_catalog.csv\", index=False)\n",
    "test_queries_df.to_csv(\"data/walmart-amazon/test_queries.csv\", index=False)"
   ]
  },
  {
   "cell_type": "code",
   "execution_count": 8,
   "id": "8c721d66",
   "metadata": {
    "ExecuteTime": {
     "end_time": "2024-04-25T21:30:37.091964200Z",
     "start_time": "2024-04-25T21:30:37.042954900Z"
    }
   },
   "outputs": [
    {
     "data": {
      "text/plain": "      catalog_id        id          upc          brand  \\\n0              1  14249992  64109216245         Draper   \n1              2  10928662   1034383417          Epson   \n2              3  11961447  80844700031  Comprehensive   \n3              4  13044637  79006932160         D-Link   \n4              5  13214131   6503081691       StarTech   \n...          ...       ...          ...            ...   \n2549        2550  16360703   5114123170             3M   \n2550        2551  16553062  89979400511            HTC   \n2551        2552  16637140  89807400111           Dell   \n2552        2553   9714616  72286814877         Belkin   \n2553        2554  10913180  84367700007       Motorola   \n\n                              groupname  \\\n0                 Electronics - General   \n1                              Monitors   \n2                        TV Accessories   \n3                      Garden - General   \n4                 Electronics - General   \n...                                 ...   \n2549  Stationery &amp; Office Machinery   \n2550              Electronics - General   \n2551                           Printers   \n2552              Electronics - General   \n2553                  Walkie-Talkie/FRS   \n\n                                                   text   price  \\\n0                    Draper Infrared Remote Transmitter   58.45   \n1      Epson 1500 Hours 200W UHE Projector Lamp ELPLP12  438.84   \n2     Comprehensive Two-Piece 75 Precision BNC Jack ...   59.25   \n3                        D-Link DCS-1100 Network Camera   99.82   \n4         StarTech.com RKPW247015 24 Outlet Power Strip   59.00   \n...                                                 ...     ...   \n2549   3M Dry-Erase Board Porcelain 6 x4 Aluminum Frame  579.29   \n2550                      HTC MyTouch 3G White Unlocked  199.00   \n2551                            Dell Series 2 Color Ink   35.97   \n2552  Belkin Pro Series High Integrity Monitor Cable...    7.88   \n2553  MOTOROLA MJ270R 27 MILE TWO WAY RADIO WITH 22 ...   47.11   \n\n                                             shelfdescr  \\\n0     Infrared transmitter. 3-button operation for i...   \n1                                                   NaN   \n2     Comprehensive s True 75 connectors eliminate i...   \n3     Surveillance Network Camera  Built-in Omni-dir...   \n4     Fits most 42U racks and equipment cabinets  10...   \n...                                                 ...   \n2549  3M Aluminum Frame Porcelain Dry-erase Board Dr...   \n2550  Android OS v1.5 3.15MP camera Video recording ...   \n2551            Color Color For Dell A940 A960 printers   \n2552  The Belkin Pro Series High Integrity Monitor C...   \n2553  The Motorola Talkabout MJ270 is the ideal emer...   \n\n                                             shortdescr  \\\n0                                                   NaN   \n1                       Epson ELPLP12  Replacement Lamp   \n2                                                   NaN   \n3     The D-Link DCS-1100 Network Camera comes with ...   \n4     The StarTech.com RKPW247015 24 Outlet Power St...   \n...                                                 ...   \n2549                                                NaN   \n2550  The HTC MyTouch 3G features a Gorilla Glass di...   \n2551  The Dell Series 2 Color Ink provides consisten...   \n2552  The Belkin Pro Series High Integrity Monitor C...   \n2553  The Motorola Talkabout MJ270 is the ideal emer...   \n\n                                              longdescr  \\\n0     DR1143Infrared transmitter. 3-button operation...   \n1     EPSON ELPLP12 1500HRS 200V REPL LAMP FOR LAMP ...   \n2     CH1151Comprehensive s True 75 connectors elimi...   \n3     Surveillance Network Camera  Built-in Omni-dir...   \n4     24 Outlet Power Strip solution for your rackmo...   \n...                                                 ...   \n2549  TM5788 3M Aluminum Frame Porcelain Dry-erase B...   \n2550  HTC MyTouch 3G Sound and Music Vibration polyp...   \n2551  Dell Series 2 Color Ink Color Color For Dell A...   \n2552  Technical Information   Cable Type  Monitor   ...   \n2553  Includes an emergency alert feature allowing y...   \n\n                                               imageurl  \\\n0     http://i.walmartimages.com/i/mp/00/64/10/92/16...   \n1     http://i.walmartimages.com/i/p/00/01/03/43/83/...   \n2     http://i.walmartimages.com/i/mp/00/80/84/47/00...   \n3     http://i.walmartimages.com/i/p/00/79/00/69/32/...   \n4     http://i.walmartimages.com/i/p/00/06/50/30/81/...   \n...                                                 ...   \n2549  http://i.walmartimages.com/i/mp/00/05/11/41/23...   \n2550  http://i.walmartimages.com/i/p/00/89/97/94/00/...   \n2551  http://i.walmartimages.com/i/p/00/89/80/74/00/...   \n2552  http://i.walmartimages.com/i/p/00/72/28/68/14/...   \n2553  http://i.walmartimages.com/i/p/00/84/36/77/00/...   \n\n                                        orig_shelfdescr  \\\n0     Infrared transmitter. 3-button operation for i...   \n1                                                   NaN   \n2     Comprehensive's True 75 connectors eliminate i...   \n3     <UL><LI>Surveillance/Network Camera</LI><LI>Bu...   \n4     <ul><li>Fits most 42U racks and equipment cabi...   \n...                                                 ...   \n2549  3M Aluminum Frame Porcelain Dry-erase Board Dr...   \n2550  <li>Android OS, v1.5<li>3.15MP camera<li>Video...   \n2551   <li>Color: Color<li>For Dell A940, A960 printers   \n2552  The Belkin Pro Series High Integrity Monitor C...   \n2553  <LI>The Motorola Talkabout MJ270 is the ideal ...   \n\n                                        orig_shortdescr  \\\n0                                                   NaN   \n1                       Epson ELPLP12  Replacement Lamp   \n2                                                   NaN   \n3     The D-Link DCS-1100 Network Camera comes with ...   \n4     The StarTech.com RKPW247015 24 Outlet Power St...   \n...                                                 ...   \n2549                                                NaN   \n2550  The HTC MyTouch 3G features a Gorilla Glass di...   \n2551  The Dell Series 2 Color Ink provides consisten...   \n2552  The Belkin Pro Series High Integrity Monitor C...   \n2553  The Motorola Talkabout MJ270 is the ideal emer...   \n\n                                         orig_longdescr     modelno  \\\n0     DR1143Infrared transmitter. 3-button operation...      121066   \n1     EPSON ELPLP12 1500HRS 200V REPL LAMP FOR LAMP ...     ELPLP12   \n2     CH1151Comprehensive's True 75 connectors elimi...   BJ-2C7559   \n3     <UL><LI>Surveillance/Network Camera</LI><LI>Bu...    DCS-1100   \n4     <ul><li>24 Outlet Power Strip solution for you...  RKPW247015   \n...                                                 ...         ...   \n2549  TM5788<b>3M Aluminum Frame Porcelain Dry-erase...         NaN   \n2550  <p><b>HTC MyTouch 3G:</b><p><b>Sound and Music...  Mytouch 3G   \n2551  <p><b>Dell Series 2 Color Ink:</b><ul><li>Colo...    330-0048   \n2552  <table><tr><td colspan=&quot;2&quot; height=&q...   F3H982-06   \n2553  <LI>Includes an emergency alert feature, allow...      MJ270R   \n\n      shipweight                 dimensions  \n0           2.00                        NaN  \n1           0.95   6.75 x 5.75 x 5.5 inches  \n2           0.05                        NaN  \n3            NaN                        NaN  \n4           5.25    72.5 x 2.5 x 1.5 inches  \n...          ...                        ...  \n2549       42.00                        NaN  \n2550        0.85  4.45 x 2.19 x 0.58 inches  \n2551        7.00   5.5 x 3.86 x 1.26 inches  \n2552        0.60     6.3 x 3.6 x 0.9 inches  \n2553        1.55     7.8 x 2.4 x 1.3 inches  \n\n[2554 rows x 17 columns]",
      "text/html": "<div>\n<style scoped>\n    .dataframe tbody tr th:only-of-type {\n        vertical-align: middle;\n    }\n\n    .dataframe tbody tr th {\n        vertical-align: top;\n    }\n\n    .dataframe thead th {\n        text-align: right;\n    }\n</style>\n<table border=\"1\" class=\"dataframe\">\n  <thead>\n    <tr style=\"text-align: right;\">\n      <th></th>\n      <th>catalog_id</th>\n      <th>id</th>\n      <th>upc</th>\n      <th>brand</th>\n      <th>groupname</th>\n      <th>text</th>\n      <th>price</th>\n      <th>shelfdescr</th>\n      <th>shortdescr</th>\n      <th>longdescr</th>\n      <th>imageurl</th>\n      <th>orig_shelfdescr</th>\n      <th>orig_shortdescr</th>\n      <th>orig_longdescr</th>\n      <th>modelno</th>\n      <th>shipweight</th>\n      <th>dimensions</th>\n    </tr>\n  </thead>\n  <tbody>\n    <tr>\n      <th>0</th>\n      <td>1</td>\n      <td>14249992</td>\n      <td>64109216245</td>\n      <td>Draper</td>\n      <td>Electronics - General</td>\n      <td>Draper Infrared Remote Transmitter</td>\n      <td>58.45</td>\n      <td>Infrared transmitter. 3-button operation for i...</td>\n      <td>NaN</td>\n      <td>DR1143Infrared transmitter. 3-button operation...</td>\n      <td>http://i.walmartimages.com/i/mp/00/64/10/92/16...</td>\n      <td>Infrared transmitter. 3-button operation for i...</td>\n      <td>NaN</td>\n      <td>DR1143Infrared transmitter. 3-button operation...</td>\n      <td>121066</td>\n      <td>2.00</td>\n      <td>NaN</td>\n    </tr>\n    <tr>\n      <th>1</th>\n      <td>2</td>\n      <td>10928662</td>\n      <td>1034383417</td>\n      <td>Epson</td>\n      <td>Monitors</td>\n      <td>Epson 1500 Hours 200W UHE Projector Lamp ELPLP12</td>\n      <td>438.84</td>\n      <td>NaN</td>\n      <td>Epson ELPLP12  Replacement Lamp</td>\n      <td>EPSON ELPLP12 1500HRS 200V REPL LAMP FOR LAMP ...</td>\n      <td>http://i.walmartimages.com/i/p/00/01/03/43/83/...</td>\n      <td>NaN</td>\n      <td>Epson ELPLP12  Replacement Lamp</td>\n      <td>EPSON ELPLP12 1500HRS 200V REPL LAMP FOR LAMP ...</td>\n      <td>ELPLP12</td>\n      <td>0.95</td>\n      <td>6.75 x 5.75 x 5.5 inches</td>\n    </tr>\n    <tr>\n      <th>2</th>\n      <td>3</td>\n      <td>11961447</td>\n      <td>80844700031</td>\n      <td>Comprehensive</td>\n      <td>TV Accessories</td>\n      <td>Comprehensive Two-Piece 75 Precision BNC Jack ...</td>\n      <td>59.25</td>\n      <td>Comprehensive s True 75 connectors eliminate i...</td>\n      <td>NaN</td>\n      <td>CH1151Comprehensive s True 75 connectors elimi...</td>\n      <td>http://i.walmartimages.com/i/mp/00/80/84/47/00...</td>\n      <td>Comprehensive's True 75 connectors eliminate i...</td>\n      <td>NaN</td>\n      <td>CH1151Comprehensive's True 75 connectors elimi...</td>\n      <td>BJ-2C7559</td>\n      <td>0.05</td>\n      <td>NaN</td>\n    </tr>\n    <tr>\n      <th>3</th>\n      <td>4</td>\n      <td>13044637</td>\n      <td>79006932160</td>\n      <td>D-Link</td>\n      <td>Garden - General</td>\n      <td>D-Link DCS-1100 Network Camera</td>\n      <td>99.82</td>\n      <td>Surveillance Network Camera  Built-in Omni-dir...</td>\n      <td>The D-Link DCS-1100 Network Camera comes with ...</td>\n      <td>Surveillance Network Camera  Built-in Omni-dir...</td>\n      <td>http://i.walmartimages.com/i/p/00/79/00/69/32/...</td>\n      <td>&lt;UL&gt;&lt;LI&gt;Surveillance/Network Camera&lt;/LI&gt;&lt;LI&gt;Bu...</td>\n      <td>The D-Link DCS-1100 Network Camera comes with ...</td>\n      <td>&lt;UL&gt;&lt;LI&gt;Surveillance/Network Camera&lt;/LI&gt;&lt;LI&gt;Bu...</td>\n      <td>DCS-1100</td>\n      <td>NaN</td>\n      <td>NaN</td>\n    </tr>\n    <tr>\n      <th>4</th>\n      <td>5</td>\n      <td>13214131</td>\n      <td>6503081691</td>\n      <td>StarTech</td>\n      <td>Electronics - General</td>\n      <td>StarTech.com RKPW247015 24 Outlet Power Strip</td>\n      <td>59.00</td>\n      <td>Fits most 42U racks and equipment cabinets  10...</td>\n      <td>The StarTech.com RKPW247015 24 Outlet Power St...</td>\n      <td>24 Outlet Power Strip solution for your rackmo...</td>\n      <td>http://i.walmartimages.com/i/p/00/06/50/30/81/...</td>\n      <td>&lt;ul&gt;&lt;li&gt;Fits most 42U racks and equipment cabi...</td>\n      <td>The StarTech.com RKPW247015 24 Outlet Power St...</td>\n      <td>&lt;ul&gt;&lt;li&gt;24 Outlet Power Strip solution for you...</td>\n      <td>RKPW247015</td>\n      <td>5.25</td>\n      <td>72.5 x 2.5 x 1.5 inches</td>\n    </tr>\n    <tr>\n      <th>...</th>\n      <td>...</td>\n      <td>...</td>\n      <td>...</td>\n      <td>...</td>\n      <td>...</td>\n      <td>...</td>\n      <td>...</td>\n      <td>...</td>\n      <td>...</td>\n      <td>...</td>\n      <td>...</td>\n      <td>...</td>\n      <td>...</td>\n      <td>...</td>\n      <td>...</td>\n      <td>...</td>\n      <td>...</td>\n    </tr>\n    <tr>\n      <th>2549</th>\n      <td>2550</td>\n      <td>16360703</td>\n      <td>5114123170</td>\n      <td>3M</td>\n      <td>Stationery &amp;amp; Office Machinery</td>\n      <td>3M Dry-Erase Board Porcelain 6 x4 Aluminum Frame</td>\n      <td>579.29</td>\n      <td>3M Aluminum Frame Porcelain Dry-erase Board Dr...</td>\n      <td>NaN</td>\n      <td>TM5788 3M Aluminum Frame Porcelain Dry-erase B...</td>\n      <td>http://i.walmartimages.com/i/mp/00/05/11/41/23...</td>\n      <td>3M Aluminum Frame Porcelain Dry-erase Board Dr...</td>\n      <td>NaN</td>\n      <td>TM5788&lt;b&gt;3M Aluminum Frame Porcelain Dry-erase...</td>\n      <td>NaN</td>\n      <td>42.00</td>\n      <td>NaN</td>\n    </tr>\n    <tr>\n      <th>2550</th>\n      <td>2551</td>\n      <td>16553062</td>\n      <td>89979400511</td>\n      <td>HTC</td>\n      <td>Electronics - General</td>\n      <td>HTC MyTouch 3G White Unlocked</td>\n      <td>199.00</td>\n      <td>Android OS v1.5 3.15MP camera Video recording ...</td>\n      <td>The HTC MyTouch 3G features a Gorilla Glass di...</td>\n      <td>HTC MyTouch 3G Sound and Music Vibration polyp...</td>\n      <td>http://i.walmartimages.com/i/p/00/89/97/94/00/...</td>\n      <td>&lt;li&gt;Android OS, v1.5&lt;li&gt;3.15MP camera&lt;li&gt;Video...</td>\n      <td>The HTC MyTouch 3G features a Gorilla Glass di...</td>\n      <td>&lt;p&gt;&lt;b&gt;HTC MyTouch 3G:&lt;/b&gt;&lt;p&gt;&lt;b&gt;Sound and Music...</td>\n      <td>Mytouch 3G</td>\n      <td>0.85</td>\n      <td>4.45 x 2.19 x 0.58 inches</td>\n    </tr>\n    <tr>\n      <th>2551</th>\n      <td>2552</td>\n      <td>16637140</td>\n      <td>89807400111</td>\n      <td>Dell</td>\n      <td>Printers</td>\n      <td>Dell Series 2 Color Ink</td>\n      <td>35.97</td>\n      <td>Color Color For Dell A940 A960 printers</td>\n      <td>The Dell Series 2 Color Ink provides consisten...</td>\n      <td>Dell Series 2 Color Ink Color Color For Dell A...</td>\n      <td>http://i.walmartimages.com/i/p/00/89/80/74/00/...</td>\n      <td>&lt;li&gt;Color: Color&lt;li&gt;For Dell A940, A960 printers</td>\n      <td>The Dell Series 2 Color Ink provides consisten...</td>\n      <td>&lt;p&gt;&lt;b&gt;Dell Series 2 Color Ink:&lt;/b&gt;&lt;ul&gt;&lt;li&gt;Colo...</td>\n      <td>330-0048</td>\n      <td>7.00</td>\n      <td>5.5 x 3.86 x 1.26 inches</td>\n    </tr>\n    <tr>\n      <th>2552</th>\n      <td>2553</td>\n      <td>9714616</td>\n      <td>72286814877</td>\n      <td>Belkin</td>\n      <td>Electronics - General</td>\n      <td>Belkin Pro Series High Integrity Monitor Cable...</td>\n      <td>7.88</td>\n      <td>The Belkin Pro Series High Integrity Monitor C...</td>\n      <td>The Belkin Pro Series High Integrity Monitor C...</td>\n      <td>Technical Information   Cable Type  Monitor   ...</td>\n      <td>http://i.walmartimages.com/i/p/00/72/28/68/14/...</td>\n      <td>The Belkin Pro Series High Integrity Monitor C...</td>\n      <td>The Belkin Pro Series High Integrity Monitor C...</td>\n      <td>&lt;table&gt;&lt;tr&gt;&lt;td colspan=&amp;quot;2&amp;quot; height=&amp;q...</td>\n      <td>F3H982-06</td>\n      <td>0.60</td>\n      <td>6.3 x 3.6 x 0.9 inches</td>\n    </tr>\n    <tr>\n      <th>2553</th>\n      <td>2554</td>\n      <td>10913180</td>\n      <td>84367700007</td>\n      <td>Motorola</td>\n      <td>Walkie-Talkie/FRS</td>\n      <td>MOTOROLA MJ270R 27 MILE TWO WAY RADIO WITH 22 ...</td>\n      <td>47.11</td>\n      <td>The Motorola Talkabout MJ270 is the ideal emer...</td>\n      <td>The Motorola Talkabout MJ270 is the ideal emer...</td>\n      <td>Includes an emergency alert feature allowing y...</td>\n      <td>http://i.walmartimages.com/i/p/00/84/36/77/00/...</td>\n      <td>&lt;LI&gt;The Motorola Talkabout MJ270 is the ideal ...</td>\n      <td>The Motorola Talkabout MJ270 is the ideal emer...</td>\n      <td>&lt;LI&gt;Includes an emergency alert feature, allow...</td>\n      <td>MJ270R</td>\n      <td>1.55</td>\n      <td>7.8 x 2.4 x 1.3 inches</td>\n    </tr>\n  </tbody>\n</table>\n<p>2554 rows × 17 columns</p>\n</div>"
     },
     "execution_count": 8,
     "metadata": {},
     "output_type": "execute_result"
    }
   ],
   "source": [
    "train_catalog_df"
   ]
  },
  {
   "cell_type": "code",
   "execution_count": null,
   "outputs": [],
   "source": [],
   "metadata": {
    "collapsed": false
   },
   "id": "36df18fe6685ff24"
  }
 ],
 "metadata": {
  "kernelspec": {
   "display_name": "Python 3 (ipykernel)",
   "language": "python",
   "name": "python3"
  },
  "language_info": {
   "codemirror_mode": {
    "name": "ipython",
    "version": 3
   },
   "file_extension": ".py",
   "mimetype": "text/x-python",
   "name": "python",
   "nbconvert_exporter": "python",
   "pygments_lexer": "ipython3",
   "version": "3.10.6"
  }
 },
 "nbformat": 4,
 "nbformat_minor": 5
}
